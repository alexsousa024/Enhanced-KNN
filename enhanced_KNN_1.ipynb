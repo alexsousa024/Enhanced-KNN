{
 "cells": [
  {
   "cell_type": "markdown",
   "metadata": {},
   "source": [
    "# # Machine Learning I"
   ]
  },
  {
   "cell_type": "markdown",
   "metadata": {},
   "source": [
    "Pratical Assignment\n",
    "\n",
    "Alexandre Sousa - 202206427\n",
    "\n",
    "Guilherme Oliveira - \n",
    "\n",
    "Mario Minhava - \n"
   ]
  },
  {
   "cell_type": "code",
   "execution_count": 537,
   "metadata": {},
   "outputs": [],
   "source": [
    "import openml\n",
    "import pandas as pd\n",
    "import matplotlib.pyplot as plt\n",
    "from sklearn.model_selection import train_test_split\n",
    "from sklearn.metrics import classification_report\n",
    "from sklearn.metrics import roc_curve, auc\n",
    "from sklearn.preprocessing import LabelEncoder\n",
    "from sklearn.preprocessing import label_binarize\n",
    "from collections import Counter\n",
    "from scipy.stats import f_oneway\n",
    "from sklearn.utils import resample\n",
    "import numpy as np \n",
    "from sklearn.metrics import accuracy_score\n",
    "from joblib import Parallel, delayed\n"
   ]
  },
  {
   "cell_type": "markdown",
   "metadata": {},
   "source": [
    "# FUNCOES DE DISTÂNCIA\n"
   ]
  },
  {
   "cell_type": "code",
   "execution_count": 538,
   "metadata": {},
   "outputs": [],
   "source": [
    "distance_functions = [euclidean_distance, manhattan_distance, cosine_distance, minkowski_distance, hamming_distance, jaccard_distance] \n",
    "\n",
    "def euclidean_distance(p1, p2):\n",
    "    P1 = np.array(p1)\n",
    "    P2 = np.array(p2)\n",
    "    temp = P1 - P2\n",
    "    euclid_dist = np. sqrt(np.dot(temp.T, temp))\n",
    "    return euclid_dist\n",
    "\n",
    "def manhattan_distance(p, q):\n",
    "    return np.sum(np.abs(p - q))\n",
    "\n",
    "def minkowski_distance(p, q, order=3):\n",
    "    return np.power(np.sum(np.abs(p - q)**order), 1 / order)\n",
    "\n",
    "def chebyshev_distance(p, q):\n",
    "    return np.max(np.abs(p - q))\n",
    "\n",
    "def hamming_distance(p, q):\n",
    "    return np.sum(p != q) / len(p)\n",
    "\n",
    "def jaccard_distance(p, q):\n",
    "    p = np.asarray(p, np.bool_) # Converte para booleano se ainda não for\n",
    "    q = np.asarray(q, np.bool_)\n",
    "    return 1 - np.double(np.bitwise_and(p, q).sum()) / np.double(np.bitwise_or(p, q).sum())\n",
    "\n",
    "\n",
    "def cosine_distance(p, q):\n",
    "    return 1 - np.dot(p, q) / (np.linalg.norm(p) * np.linalg.norm(q))\n",
    "\n",
    "\n",
    "def mahalanobis_distance(p, q, cov=None):\n",
    "    # Ensure p and q are at least 2D arrays with shape (1, n_features)\n",
    "    p = np.atleast_2d(p)\n",
    "    q = np.atleast_2d(q)\n",
    "\n",
    "    # Calculate the covariance matrix if not provided\n",
    "    if cov is None:\n",
    "        combined = np.vstack([p, q])  # Combine p and q vertically\n",
    "        cov = np.cov(combined, rowvar=False)  # Calculate covariance matrix of columns\n",
    "        if cov.shape == (1, 1):  # Handle edge case for single-feature data\n",
    "            cov = cov + np.eye(1) * 1e-10\n",
    "\n",
    "    # Add a small noise to the diagonal elements to prevent singular matrix issues\n",
    "    cov += np.eye(cov.shape[0]) * 1e-10\n",
    "\n",
    "    # Compute the inverse of the covariance matrix\n",
    "    try:\n",
    "        inv_covmat = np.linalg.inv(cov)\n",
    "    except np.linalg.LinAlgError:\n",
    "        inv_covmat = np.linalg.pinv(cov)  # Use pseudoinverse as fallback\n",
    "\n",
    "    delta = p - q\n",
    "    return np.sqrt(np.dot(np.dot(delta, inv_covmat), delta.T))[0, 0]"
   ]
  },
  {
   "cell_type": "markdown",
   "metadata": {},
   "source": [
    "# Encontrar o melhor K"
   ]
  },
  {
   "cell_type": "code",
   "execution_count": 539,
   "metadata": {},
   "outputs": [],
   "source": [
    "def find_best_k(X_train, X_test, y_train, y_test):\n",
    "    # Testando diferentes valores de K\n",
    "    Ks = [1,2,3,4,5,6,7,8,9,10,11,12,13,14,15]\n",
    "    accs = []\n",
    "    for k in Ks:\n",
    "        KNNteste=KNNBase(k)\n",
    "        KNNteste.fit(X_train,y_train)\n",
    "        predictions =KNNteste._predict(X_test)\n",
    "        accuracy = np.mean(predictions == y_test)\n",
    "        accs.append(accuracy)\n",
    "    # Encontrando o melhor valor de K\n",
    "    best_k = Ks[accs.index(max(accs))]\n",
    "    return best_k\n",
    "\n",
    "\n",
    "def find_best_k_bagging(X_train, X_test, y_train, y_test, distance_funcs = distance_functions):\n",
    "    # Testando diferentes valores de K\n",
    "    Ks = [1,2,3,4,5,6,7,8,9,10,11,12,13,14,15]\n",
    "    accs = []\n",
    "    for k in Ks:\n",
    "        KNNteste=KNN_Bagging(k=k, n_estimators=10,distance_funcs=distance_functions)\n",
    "        KNNteste.fit(X_train,y_train)\n",
    "        predictions =KNNteste.predict(X_test)\n",
    "        accuracy = np.mean(predictions == y_test)\n",
    "        accs.append(accuracy)\n",
    "    # Encontrando o melhor valor de K\n",
    "    best_k = Ks[accs.index(max(accs))]\n",
    "    return best_k"
   ]
  },
  {
   "cell_type": "markdown",
   "metadata": {},
   "source": [
    " # KNN BASE"
   ]
  },
  {
   "cell_type": "code",
   "execution_count": 540,
   "metadata": {},
   "outputs": [],
   "source": [
    "from collections import Counter\n",
    "import numpy as np\n",
    "from scipy.spatial.distance import euclidean\n",
    "\n",
    "class KNNBase():\n",
    "    def __init__(self, k=5, distance_func = euclidean_distance, mode='classification'):\n",
    "        \"\"\"Base class for Nearest neighbors classifier and regressor.\n",
    "\n",
    "        Parameters\n",
    "        ----------\n",
    "        k : int, default 5\n",
    "            The number of neighbors to take into account. If 0, all the\n",
    "            training examples are used.\n",
    "        distance_func : function, default euclidean distance\n",
    "            A distance function taking two arguments. Any function from\n",
    "            scipy.spatial.distance will do.\n",
    "        mode : str, default 'classification'\n",
    "            The mode of operation for aggregation. Either 'classification' or 'regression'.\n",
    "        \"\"\"\n",
    "\n",
    "        self.k = None if k == 0 else k  # l[:None] returns the whole list\n",
    "        self.distance_func = distance_func\n",
    "        self.mode = mode\n",
    "\n",
    "    def aggregate(self, neighbors_targets):\n",
    "        if self.mode == 'classification':\n",
    "            # Using Counter to find the most common class among the nearest neighbors\n",
    "            most_common = Counter(neighbors_targets).most_common(1)\n",
    "            return most_common[0][0]\n",
    "        elif self.mode == 'regression':\n",
    "            # Calculating the mean of the targets for regression purposes\n",
    "            return np.mean(neighbors_targets)\n",
    "        else:\n",
    "            raise ValueError(\"Unsupported mode. Use 'classification' or 'regression'.\")\n",
    "\n",
    "    def _predict(self, X):\n",
    "        X = np.array(X)\n",
    "        predictions = [self._predict_x(x) for x in X]\n",
    "        return np.array(predictions)\n",
    "\n",
    "    def _predict_x(self, x):\n",
    "        # Garante que x é um array 1-D\n",
    "        x = np.array(x).ravel()\n",
    "\n",
    "        # Calcula as distâncias entre x e todos os exemplos no conjunto de treinamento\n",
    "        distances = [self.distance_func(x, example.ravel()) for example in self.X]\n",
    "\n",
    "        # Ordena todos os exemplos pela distância até x e mantém o valor alvo\n",
    "        neighbors = sorted(zip(distances, self.y), key=lambda pair: pair[0])\n",
    "\n",
    "        # Obtém os alvos dos k vizinhos mais próximos e agrega-os\n",
    "        neighbors_targets = [target for _, target in neighbors[:self.k]]\n",
    "\n",
    "        return self.aggregate(neighbors_targets)\n",
    "\n",
    "    def fit(self, X, y):\n",
    "        \"\"\"Store the training dataset.\"\"\"\n",
    "        self.X = np.array(X)\n",
    "        self.y = np.array(y)\n"
   ]
  },
  {
   "cell_type": "markdown",
   "metadata": {},
   "source": [
    "# KNN - BAGGING"
   ]
  },
  {
   "cell_type": "code",
   "execution_count": 541,
   "metadata": {},
   "outputs": [],
   "source": [
    "class KNN_Bagging:\n",
    "    def __init__(self, k=5, n_estimators=10, distance_funcs=None, distance_weights=None, max_features=1.0, n_jobs=None):\n",
    "        self.k = k\n",
    "        self.n_estimators = n_estimators\n",
    "        self.distance_funcs = distance_funcs if distance_funcs else [euclidean_distance] * n_estimators\n",
    "        self.distance_weights = distance_weights if distance_weights else [1] * n_estimators\n",
    "        self.max_features = max_features  # Fraction of features to use for each model\n",
    "        self.models = []\n",
    "        self.feature_indices = []  # To store indices of features for each model\n",
    "        self.n_jobs = n_jobs\n",
    "\n",
    "    def fit(self, X, y):\n",
    "            n_features = X.shape[1]\n",
    "            n_sub_features = int(self.max_features * n_features) if self.max_features <= 1.0 else self.max_features\n",
    "            tasks = []\n",
    "\n",
    "            for i in range(self.n_estimators):\n",
    "                features_idx = np.random.choice(n_features, n_sub_features, replace=False)\n",
    "                self.feature_indices.append(features_idx)\n",
    "                X_sample, y_sample = resample(X[:, features_idx], y)\n",
    "                task = delayed(self.train_model)(X_sample, y_sample, self.distance_funcs[i % len(self.distance_funcs)], self.k)\n",
    "                tasks.append(task)\n",
    "\n",
    "            self.models = Parallel(n_jobs=self.n_jobs)(tasks)\n",
    "\n",
    "    def predict(self, X):\n",
    "        final_predictions = []\n",
    "\n",
    "        # Each instance needs its votes aggregated from all models\n",
    "        for i in range(X.shape[0]):\n",
    "            # Use a Counter to sum up the weighted votes for the current instance across all models\n",
    "            weighted_vote_counts = Counter()\n",
    "\n",
    "            for model, features_idx, weight in zip(self.models, self.feature_indices, self.distance_weights):\n",
    "                # Predict using the stored feature indices for each model\n",
    "                pred = model._predict(X[:, features_idx])[i]  # Get prediction for the i-th instance\n",
    "                weighted_vote_counts[pred] += weight  # Weight is added to the count of the predicted class\n",
    "\n",
    "            # If no votes were cast, handle it (perhaps return a default or most common class)\n",
    "            if not weighted_vote_counts:\n",
    "                print(\"Warning: No votes cast for instance index\", i)\n",
    "                final_predictions.append(None)  # Or handle as required\n",
    "            else:\n",
    "                # Determine the majority vote based on weights\n",
    "                final_predictions.append(weighted_vote_counts.most_common(1)[0][0])\n",
    "\n",
    "        return np.array(final_predictions)\n",
    "    \n",
    "    def train_model(self, X_sample, y_sample, distance_func, k):\n",
    "        model = KNNBase(k=k, distance_func=distance_func)\n",
    "        model.fit(X_sample, y_sample)\n",
    "        return model\n",
    "\n",
    "    \n",
    "    "
   ]
  },
  {
   "cell_type": "markdown",
   "metadata": {},
   "source": [
    "Vamos analisar os 10 data sets com o código base: \n",
    "Temos de testar em especifico duas coisas: \n",
    " - Noise\n",
    " - Class overlap "
   ]
  },
  {
   "cell_type": "code",
   "execution_count": 542,
   "metadata": {},
   "outputs": [],
   "source": [
    "def split_data(df, test_size=0.2):\n",
    "    # Assuming the last column is the target variable\n",
    "    X = df.iloc[:, :-1].values  # all rows, all columns except the last\n",
    "    y = df.iloc[:, -1].values   # all rows, just the last column\n",
    "    X_train, X_test, y_train, y_test = train_test_split(X, y, test_size=test_size, random_state=42)\n",
    "    return X_train, X_test, y_train, y_test"
   ]
  },
  {
   "cell_type": "markdown",
   "metadata": {},
   "source": [
    "# Treino de Dados\n"
   ]
  },
  {
   "cell_type": "code",
   "execution_count": 543,
   "metadata": {},
   "outputs": [],
   "source": [
    "def treino_knn_base(dataset,k):\n",
    "    splits_ds1 = split_data(dataset)\n",
    "    #Knn-base -> Funcão de distancia euclidean \n",
    "    k = find_best_k(splits_ds1[0],splits_ds1[1], splits_ds1[2], splits_ds1[3])\n",
    "    \n",
    "    knn_base = KNNBase(k = k)\n",
    "    knn_base.fit(splits_ds1[0], splits_ds1[2])\n",
    "    y_pred_ds1 = knn_base._predict(splits_ds1[1])\n",
    "\n",
    "    le = LabelEncoder()\n",
    "    y_teste = le.fit_transform(splits_ds1[3]) #y de teste\n",
    "    \n",
    "    print(\"Classes present in training data:\", le.classes_)\n",
    "    \n",
    "    previsoes = le.transform(y_pred_ds1) #previsoes \n",
    "    \n",
    "    print(\"Unique labels predicted:\", np.unique(previsoes))\n",
    "    \n",
    "    return y_teste, previsoes\n",
    "    \n",
    "\n",
    "def treino_knn_bagging(dataset, k, n_estimators=10, distance_funcs=distance_functions):\n",
    "    splits_ds = split_data(dataset)\n",
    "    k = find_best_k_bagging(splits_ds[0], splits_ds[1], splits_ds[2], splits_ds[3], distance_functions)\n",
    "    print(\"SAI DAQUI+\")\n",
    "    print(\"O melhor k encontrado é: \", k)\n",
    "    \n",
    "    # Pass the list of distance functions to the KNN_Bagging constructor\n",
    "    knn_bagging = KNN_Bagging(k=k, n_estimators=n_estimators, distance_funcs=distance_funcs)\n",
    "    knn_bagging.fit(splits_ds[0], splits_ds[2])\n",
    "    \n",
    "    le = LabelEncoder()\n",
    "    y_teste = le.fit_transform(splits_ds[3])  # Transform y of test to numeric format\n",
    "    print(\"Classes present in training data:\", le.classes_)\n",
    "    \n",
    "    predictions = knn_bagging.predict(splits_ds[1])\n",
    "    transformed_predictions = le.transform(predictions)  # Transform predictions to the original label format\n",
    "    print(\"Unique labels predicted:\", np.unique(transformed_predictions))\n",
    "    \n",
    "    return transformed_predictions, y_teste\n",
    "    \n",
    "\n"
   ]
  },
  {
   "cell_type": "markdown",
   "metadata": {},
   "source": [
    "# Funcões de Estatistica "
   ]
  },
  {
   "cell_type": "code",
   "execution_count": 544,
   "metadata": {},
   "outputs": [],
   "source": [
    "def plot_roc_curve(y_test, y_score, n_classes):\n",
    "    # Binarize the output labels for multiclass\n",
    "    y_test_bin = label_binarize(y_test, classes=[*range(n_classes)])\n",
    "    \n",
    "            \n",
    "    fpr, tpr, _ = roc_curve(y_test_bin.ravel(), y_score.ravel())\n",
    "    roc_auc = auc(fpr, tpr)\n",
    "\n",
    "    plt.figure()\n",
    "    plt.plot(fpr, tpr, color='darkorange', lw=2, label=f'ROC curve (area = {roc_auc:.2f})')\n",
    "    plt.plot([0, 1], [0, 1], color='navy', lw=2, linestyle='--')\n",
    "    plt.xlim([0.0, 1.0])\n",
    "    plt.ylim([0.0, 1.05])\n",
    "    plt.xlabel('False Positive Rate')\n",
    "    plt.ylabel('True Positive Rate')\n",
    "    plt.title('Receiver operating characteristic example')\n",
    "    plt.legend(loc=\"lower right\")\n",
    "    plt.show()\n",
    "\n",
    "    \n",
    "\n",
    "    \n",
    "def print_classification_report(y_test, y_pred):\n",
    "    report = classification_report(y_test, y_pred)\n",
    "    print(report)"
   ]
  },
  {
   "cell_type": "markdown",
   "metadata": {},
   "source": [
    " # DATASET 1"
   ]
  },
  {
   "cell_type": "markdown",
   "metadata": {},
   "source": [
    "### KNN BASE"
   ]
  },
  {
   "cell_type": "code",
   "execution_count": 545,
   "metadata": {},
   "outputs": [
    {
     "name": "stdout",
     "output_type": "stream",
     "text": [
      "Classes present in training data: ['tested_negative' 'tested_positive']\n",
      "Unique labels predicted: [0 1]\n",
      "              precision    recall  f1-score   support\n",
      "\n",
      "           0       0.73      0.87      0.79        99\n",
      "           1       0.64      0.42      0.51        55\n",
      "\n",
      "    accuracy                           0.71       154\n",
      "   macro avg       0.68      0.64      0.65       154\n",
      "weighted avg       0.70      0.71      0.69       154\n",
      "\n"
     ]
    },
    {
     "data": {
      "image/png": "[encoded data removed]",
      "text/plain": [
       "<Figure size 640x480 with 1 Axes>"
      ]
     },
     "metadata": {},
     "output_type": "display_data"
    }
   ],
   "source": [
    "df_ds1 = pd.read_csv(\"csv_result-dataset_diabetes_35.csv\")\n",
    "\n",
    "\n",
    "y_true,y_pred = treino_knn_base(df_ds1,3)\n",
    "\n",
    "\n",
    "print_classification_report(y_true, y_pred)\n",
    "plot_roc_curve(y_true,y_pred,2)\n"
   ]
  },
  {
   "cell_type": "markdown",
   "metadata": {},
   "source": [
    "# KNN - BAGGING "
   ]
  },
  {
   "cell_type": "code",
   "execution_count": null,
   "metadata": {},
   "outputs": [],
   "source": [
    "\n",
    "y_pred,y_true = treino_knn_bagging(df_ds1,3)\n",
    "\n",
    "print(y_pred)\n",
    "print(y_true)\n",
    "\n",
    "\n",
    "print_classification_report(y_true, y_pred)\n",
    "plot_roc_curve(y_true,y_pred,2)"
   ]
  },
  {
   "cell_type": "markdown",
   "metadata": {},
   "source": []
  },
  {
   "cell_type": "markdown",
   "metadata": {},
   "source": [
    "# DATA SET 2\n"
   ]
  },
  {
   "cell_type": "markdown",
   "metadata": {},
   "source": [
    " # KNN Base"
   ]
  },
  {
   "cell_type": "code",
   "execution_count": null,
   "metadata": {},
   "outputs": [],
   "source": [
    "df_ds2 = pd.read_csv(\"heart_statlog_cleveland_hungary_final.csv\")\n",
    "\n",
    "y_true,y_pred = treino_knn_base(df_ds2,3)\n",
    "\n",
    "\n",
    "print_classification_report(y_true, y_pred)\n",
    "plot_roc_curve(y_true,y_pred,2)"
   ]
  },
  {
   "cell_type": "code",
   "execution_count": null,
   "metadata": {},
   "outputs": [],
   "source": [
    "y_pred,y_true = treino_knn_bagging(df_ds2,3)\n",
    "\n",
    "print_classification_report(y_true, y_pred)\n",
    "plot_roc_curve(y_true,y_pred,2)\n"
   ]
  },
  {
   "cell_type": "markdown",
   "metadata": {},
   "source": [
    "# DATA SET 3\n"
   ]
  },
  {
   "cell_type": "markdown",
   "metadata": {},
   "source": [
    "KNN Base\n"
   ]
  },
  {
   "cell_type": "code",
   "execution_count": null,
   "metadata": {},
   "outputs": [],
   "source": [
    "dataset = openml.datasets.get_dataset(1066)\n",
    "X, y, _, attribute_names = dataset.get_data(target=dataset.default_target_attribute)\n",
    "df_ds3 = pd.DataFrame(X, columns=attribute_names)\n",
    "df_ds3[dataset.default_target_attribute] = y\n",
    "\n"
   ]
  },
  {
   "cell_type": "code",
   "execution_count": null,
   "metadata": {},
   "outputs": [],
   "source": [
    "y_true,y_pred = treino_knn_base(df_ds3,2)\n",
    "\n",
    "\n",
    "print_classification_report(y_true, y_pred)\n",
    "plot_roc_curve(y_true,y_pred,2)"
   ]
  },
  {
   "cell_type": "markdown",
   "metadata": {},
   "source": [
    "knn bagging"
   ]
  },
  {
   "cell_type": "code",
   "execution_count": null,
   "metadata": {},
   "outputs": [],
   "source": [
    "y_pred,y_true = treino_knn_bagging(df_ds3,2)\n",
    "\n",
    "\n",
    "\n",
    "print_classification_report(y_true, y_pred)\n",
    "plot_roc_curve(y_true,y_pred,2)"
   ]
  },
  {
   "cell_type": "markdown",
   "metadata": {},
   "source": [
    "# DATA SET 4\n"
   ]
  },
  {
   "cell_type": "markdown",
   "metadata": {},
   "source": [
    "KNN BASE"
   ]
  },
  {
   "cell_type": "code",
   "execution_count": null,
   "metadata": {},
   "outputs": [],
   "source": [
    "dataset = openml.datasets.get_dataset(967)\n",
    "X, y, _, attribute_names = dataset.get_data(target=dataset.default_target_attribute)\n",
    "df_ds4 = pd.DataFrame(X, columns=attribute_names)\n",
    "df_ds4[dataset.default_target_attribute] = y\n",
    "df_ds4['cylinders'] = pd.to_numeric(df_ds4['cylinders'])\n",
    "df_ds4 = df_ds4.drop(df_ds4.columns[0], axis=1) \n",
    "y_true,y_pred = treino_knn_base(df_ds4,2)\n",
    "\n",
    "print_classification_report(y_true, y_pred)\n",
    "plot_roc_curve(y_true,y_pred,2)"
   ]
  },
  {
   "cell_type": "markdown",
   "metadata": {},
   "source": [
    "knn bagging"
   ]
  },
  {
   "cell_type": "code",
   "execution_count": null,
   "metadata": {},
   "outputs": [],
   "source": [
    "y_pred,y_true = treino_knn_bagging(df_ds4,3)\n",
    "\n",
    "\n",
    "print_classification_report(y_true, y_pred)\n",
    "plot_roc_curve(y_true,y_pred,2)"
   ]
  },
  {
   "cell_type": "markdown",
   "metadata": {},
   "source": [
    "# DATA SET 5"
   ]
  },
  {
   "cell_type": "markdown",
   "metadata": {},
   "source": [
    "KNN BASE\n"
   ]
  },
  {
   "cell_type": "code",
   "execution_count": null,
   "metadata": {},
   "outputs": [],
   "source": [
    "dataset = openml.datasets.get_dataset(964)\n",
    "X, y, _, attribute_names = dataset.get_data(target=dataset.default_target_attribute)\n",
    "df_ds5= pd.DataFrame(X, columns=attribute_names)\n",
    "df_ds5[dataset.default_target_attribute] = y\n",
    "\n",
    "df_encoded = pd.get_dummies(df_ds5, drop_first=True) \n",
    "y_true,y_pred = treino_knn_base(df_encoded,3)\n",
    "#Teste Negativo -> 0 Teste Positivo -> 1\n",
    "\n",
    "print_classification_report(y_true, y_pred)\n",
    "plot_roc_curve(y_true,y_pred,2)"
   ]
  },
  {
   "cell_type": "markdown",
   "metadata": {},
   "source": [
    "knn bagging"
   ]
  },
  {
   "cell_type": "code",
   "execution_count": null,
   "metadata": {},
   "outputs": [],
   "source": [
    "\n",
    "y_pred,y_true = treino_knn_bagging(df_encoded,5)\n",
    "\n",
    "\n",
    "print_classification_report(y_true, y_pred)\n",
    "plot_roc_curve(y_true,y_pred,2)"
   ]
  },
  {
   "cell_type": "markdown",
   "metadata": {},
   "source": [
    "# DATA SET 6"
   ]
  },
  {
   "cell_type": "markdown",
   "metadata": {},
   "source": [
    "KNN BASE"
   ]
  },
  {
   "cell_type": "code",
   "execution_count": null,
   "metadata": {},
   "outputs": [],
   "source": [
    "dataset = openml.datasets.get_dataset(970)\n",
    "X, y, _, attribute_names = dataset.get_data(target=dataset.default_target_attribute)\n",
    "df_ds6 = pd.DataFrame(X, columns=attribute_names)\n",
    "df_ds6[dataset.default_target_attribute] = y\n",
    "\n",
    "y_true,y_pred = treino_knn_base(df_ds6,3)\n",
    "#Teste Negativo -> 0 Teste Positivo -> 1\n",
    "\n",
    "print_classification_report(y_true, y_pred)\n",
    "plot_roc_curve(y_true,y_pred,2)"
   ]
  },
  {
   "cell_type": "markdown",
   "metadata": {},
   "source": [
    "## knn bagging"
   ]
  },
  {
   "cell_type": "code",
   "execution_count": null,
   "metadata": {},
   "outputs": [],
   "source": [
    "y_pred,y_true = treino_knn_bagging(df_ds6,3)\n",
    "\n",
    "print_classification_report(y_true, y_pred)\n",
    "plot_roc_curve(y_true,y_pred,2)"
   ]
  },
  {
   "cell_type": "markdown",
   "metadata": {},
   "source": [
    "FALTAM 4 DATA SETS...\n"
   ]
  },
  {
   "cell_type": "markdown",
   "metadata": {},
   "source": [
    "# DATA SET 7"
   ]
  },
  {
   "cell_type": "markdown",
   "metadata": {},
   "source": [
    "KNN BASE"
   ]
  },
  {
   "cell_type": "code",
   "execution_count": null,
   "metadata": {},
   "outputs": [],
   "source": [
    "dataset = openml.datasets.get_dataset(975)\n",
    "X, y, _, attribute_names = dataset.get_data(target=dataset.default_target_attribute)\n",
    "df_ds7 = pd.DataFrame(X, columns=attribute_names)\n",
    "df_ds7[dataset.default_target_attribute] = y\n",
    "# Convert categorical variable into dummy/indicator variables.\n",
    "df_encoded = pd.get_dummies(df_ds7, drop_first=True)  # drop_first=True to avoid multicollinearity\n",
    "print(df_encoded.head())\n",
    "\n",
    "y_true,y_pred = treino_knn_base(df_encoded,3)\n",
    "#Teste Negativo -> 0 Teste Positivo -> 1\n",
    "\n",
    "print_classification_report(y_true, y_pred)\n",
    "plot_roc_curve(y_true,y_pred,2)"
   ]
  },
  {
   "cell_type": "code",
   "execution_count": null,
   "metadata": {},
   "outputs": [],
   "source": [
    "y_pred,y_true = treino_knn_bagging(df_encoded,3)\n",
    "\n",
    "print_classification_report(y_true, y_pred)\n",
    "plot_roc_curve(y_true,y_pred,2)"
   ]
  },
  {
   "cell_type": "markdown",
   "metadata": {},
   "source": [
    "# DATA SET 8"
   ]
  },
  {
   "cell_type": "code",
   "execution_count": null,
   "metadata": {},
   "outputs": [],
   "source": [
    "dataset = openml.datasets.get_dataset(1009)\n",
    "X, y, _, attribute_names = dataset.get_data(target=dataset.default_target_attribute)\n",
    "df_ds7 = pd.DataFrame(X, columns=attribute_names)\n",
    "df_ds7[dataset.default_target_attribute] = y\n",
    "\n",
    "df_encoded = pd.get_dummies(df_ds7, drop_first=True)  # drop_first=True to avoid multicollinearity\n",
    "print(df_encoded.head())\n",
    "y_true,y_pred = treino_knn_base(df_encoded,3)\n",
    "#Teste Negativo -> 0 Teste Positivo -> 1\n",
    "\n",
    "print_classification_report(y_true, y_pred)\n",
    "plot_roc_curve(y_true,y_pred,2)"
   ]
  },
  {
   "cell_type": "code",
   "execution_count": null,
   "metadata": {},
   "outputs": [],
   "source": [
    "y_pred,y_true = treino_knn_bagging(df_encoded,3)\n",
    "\n",
    "print_classification_report(y_true, y_pred)\n",
    "plot_roc_curve(y_true,y_pred,2)"
   ]
  },
  {
   "cell_type": "code",
   "execution_count": null,
   "metadata": {},
   "outputs": [],
   "source": []
  },
  {
   "cell_type": "code",
   "execution_count": null,
   "metadata": {},
   "outputs": [],
   "source": []
  }
 ],
 "metadata": {
  "kernelspec": {
   "display_name": "Python 3 (ipykernel)",
   "language": "python",
   "name": "python3"
  },
  "language_info": {
   "codemirror_mode": {
    "name": "ipython",
    "version": 3
   },
   "file_extension": ".py",
   "mimetype": "text/x-python",
   "name": "python",
   "nbconvert_exporter": "python",
   "pygments_lexer": "ipython3",
   "version": "3.11.5"
  }
 },
 "nbformat": 4,
 "nbformat_minor": 2
}
